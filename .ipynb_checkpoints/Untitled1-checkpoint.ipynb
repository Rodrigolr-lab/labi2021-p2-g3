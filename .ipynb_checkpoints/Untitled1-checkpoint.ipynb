{
 "cells": [
  {
   "cell_type": "code",
   "execution_count": null,
   "id": "aa5b4da6",
   "metadata": {},
   "outputs": [],
   "source": [
    "min = 999\n",
    "\n",
    "if(len(decodeddata1)<min) min = len(decodeddata1)\n",
    "if(len(decodeddata2)<min) min = len(decodeddata2)\n",
    "if(len(decodeddata3)<min) min = len(decodeddata3)\n",
    "if(len(decodeddata4)<min) min = len(decodeddata4)\n",
    "if(len(decodeddata5)<min) min = len(decodeddata5)\n",
    "if(len(decodeddata6)<min) min = len(decodeddata6)\n",
    "if(len(decodeddata7)<min) min = len(decodeddata7)\n",
    "\n",
    "\n",
    "decodeddata1 = numpy.fromstring(data1, numpy.int16)\n",
    "decodeddata2 = numpy.fromstring(data2, numpy.int16)\n",
    "decodeddata3 = numpy.fromstring(data3, numpy.int16)\n",
    "decodeddata4 = numpy.fromstring(data4, numpy.int16)\n",
    "decodeddata5 = numpy.fromstring(data5, numpy.int16)\n",
    "decodeddata6 = numpy.fromstring(data6, numpy.int16)\n",
    "decodeddata7 = numpy.fromstring(data7, numpy.int16)"
   ]
  }
 ],
 "metadata": {
  "kernelspec": {
   "display_name": "Python 3",
   "language": "python",
   "name": "python3"
  },
  "language_info": {
   "codemirror_mode": {
    "name": "ipython",
    "version": 3
   },
   "file_extension": ".py",
   "mimetype": "text/x-python",
   "name": "python",
   "nbconvert_exporter": "python",
   "pygments_lexer": "ipython3",
   "version": "3.8.8"
  }
 },
 "nbformat": 4,
 "nbformat_minor": 5
}
