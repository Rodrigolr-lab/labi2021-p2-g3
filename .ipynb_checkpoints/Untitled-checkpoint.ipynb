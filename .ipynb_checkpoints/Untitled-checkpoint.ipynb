{
 "cells": [
  {
   "cell_type": "code",
   "execution_count": 1,
   "id": "d52de4cb",
   "metadata": {},
   "outputs": [],
   "source": [
    "import pyaudio\n",
    "import wave\n",
    "import numpy"
   ]
  },
  {
   "cell_type": "code",
   "execution_count": 4,
   "id": "2612f672",
   "metadata": {},
   "outputs": [
    {
     "name": "stderr",
     "output_type": "stream",
     "text": [
      "<ipython-input-4-3af2113c2e8d>:4: DeprecationWarning: The binary mode of fromstring is deprecated, as it behaves surprisingly on unicode inputs. Use frombuffer instead\n",
      "  decodeddata1 = numpy.fromstring(data1, numpy.int16)\n",
      "<ipython-input-4-3af2113c2e8d>:5: DeprecationWarning: The binary mode of fromstring is deprecated, as it behaves surprisingly on unicode inputs. Use frombuffer instead\n",
      "  decodeddata2 = numpy.fromstring(data2, numpy.int16)\n",
      "<ipython-input-4-3af2113c2e8d>:26: DeprecationWarning: tostring() is deprecated. Use tobytes() instead.\n",
      "  return newdata.tostring()\n",
      "<ipython-input-4-3af2113c2e8d>:9: DeprecationWarning: tostring() is deprecated. Use tobytes() instead.\n",
      "  return newdata.tostring()\n"
     ]
    }
   ],
   "source": [
    "def callback(wf1, wf2, frame_count):\n",
    "    data1 = wf1.readframes(frame_count)\n",
    "    data2 = wf2.readframes(frame_count)\n",
    "    decodeddata1 = numpy.fromstring(data1, numpy.int16)\n",
    "    decodeddata2 = numpy.fromstring(data2, numpy.int16)\n",
    "\n",
    "    if(int(decodeddata1.size)==0):\n",
    "        newdata = (decodeddata2).astype(numpy.int16)\n",
    "        return newdata.tostring()     \n",
    "\n",
    "    if(int(decodeddata2.size)==0):\n",
    "        newdata = (decodeddata1).astype(numpy.int16)\n",
    "        return newdata.tostring()     \n",
    "\n",
    "    if(int(decodeddata1.size)>int(decodeddata2.size)):\n",
    "        rest = int(decodeddata1.size)-int(decodeddata2.size)\n",
    "        for i in range(1,rest+1):\n",
    "            decodeddata2 = numpy.append(decodeddata2,0)\n",
    "\n",
    "    if(int(decodeddata1.size)<int(decodeddata2.size)):\n",
    "        rest = int(decodeddata2.size)-int(decodeddata1.size)\n",
    "        for i in range(1,rest+1):\n",
    "            decodeddata1 = numpy.append(decodeddata1,0)\n",
    "\n",
    "    newdata = (decodeddata1 + decodeddata2).astype(numpy.int16)\n",
    "    print(newdata.tostring())\n",
    "    return newdata.tostring()\n",
    "\n",
    "# Both\n",
    "\n",
    "\n",
    "wf1 = wave.open('musica/piano-c5-c6.wav', 'rb')\n",
    "wf2 = wave.open('musica/Piano.wav', 'rb')\n",
    "\n",
    "player = pyaudio.PyAudio()\n",
    "stream = player.open(format = player.get_format_from_width(wf1.getsampwidth()),\n",
    "channels = wf1.getnchannels(), rate = wf1.getframerate(), output = True)\n",
    "\n",
    "CHUNK = 1024\n",
    "#data1 = wf1.readframes(int(CHUNK/wf1.getnchannels()))\n",
    "#data2 = wf2.readframes(int(CHUNK/wf2.getnchannels()))\n",
    "\n",
    "endData = callback(wf1, wf2, CHUNK)\n",
    "\n",
    "# play stream (3)\n",
    "while len(endData) > 0:\n",
    "    stream.write(endData)\n",
    "    \n",
    "    endData = callback(wf1, wf2, CHUNK)\n",
    "\n",
    "# stop stream (4)\n",
    "stream.stop_stream()\n",
    "stream.close()\n",
    "\n",
    "# close PyAudio (5)\n",
    "player.terminate()"
   ]
  },
  {
   "cell_type": "code",
   "execution_count": null,
   "id": "d7230b64",
   "metadata": {},
   "outputs": [],
   "source": []
  }
 ],
 "metadata": {
  "kernelspec": {
   "display_name": "Python 3",
   "language": "python",
   "name": "python3"
  },
  "language_info": {
   "codemirror_mode": {
    "name": "ipython",
    "version": 3
   },
   "file_extension": ".py",
   "mimetype": "text/x-python",
   "name": "python",
   "nbconvert_exporter": "python",
   "pygments_lexer": "ipython3",
   "version": "3.8.8"
  }
 },
 "nbformat": 4,
 "nbformat_minor": 5
}
